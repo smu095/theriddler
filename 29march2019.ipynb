{
 "cells": [
  {
   "cell_type": "markdown",
   "metadata": {},
   "source": [
    "# Setup"
   ]
  },
  {
   "cell_type": "code",
   "execution_count": 1,
   "metadata": {},
   "outputs": [],
   "source": [
    "import numpy as np\n",
    "import matplotlib.pyplot as plt\n",
    "import seaborn as sns\n",
    "from collections import OrderedDict\n",
    "sns.set_style('whitegrid')\n",
    "sns.despine(right=True, top=True)"
   ]
  },
  {
   "cell_type": "markdown",
   "metadata": {},
   "source": [
    "# Riddler Express"
   ]
  },
  {
   "cell_type": "markdown",
   "metadata": {},
   "source": [
    "You are playing your first ever game of “Ticket to Ride,” a board game in which players compete to lay down railroad while getting so competitive they risk ruining their marriages. At the start of the game, you are randomly dealt a set of three Destination Tickets out of a deck of 30 different tickets. Each reveals the two terminals you must connect with a railroad to receive points. During the game, you eventually pick up another set of three Destination Tickets, so you have now seen six of the 30 tickets in the game.\n",
    "\n",
    "Later, because you enjoyed it so much, you and your friends play a second game. The ticket cards are all returned and reshuffled. Again, you are dealt a set of three tickets to begin play. Which is more likely: that you had seen at least one of these three tickets before, or that they were all new to you?"
   ]
  },
  {
   "cell_type": "code",
   "execution_count": 2,
   "metadata": {},
   "outputs": [
    {
     "name": "stdout",
     "output_type": "stream",
     "text": [
      "Probability of being dealt three previously unseen cards: 0.4985\n",
      "Probability of having seen at least one of the cards before: 0.5015\n"
     ]
    }
   ],
   "source": [
    "total_cards = 30\n",
    "new_cards = 24\n",
    "prob_new_card = lambda k: (new_cards - k) / (total_cards - k)\n",
    "\n",
    "prob_all_new = 1\n",
    "for i in range(3):\n",
    "    prob_all_new *= prob_new_card(i)\n",
    "\n",
    "print(\"Probability of being dealt three previously unseen cards:\", round(prob_all_new, 4))\n",
    "print(\"Probability of having seen at least one of the cards before:\", round(1 - prob_all_new, 4))"
   ]
  },
  {
   "cell_type": "markdown",
   "metadata": {},
   "source": [
    "# Riddler Classic"
   ]
  },
  {
   "cell_type": "markdown",
   "metadata": {},
   "source": [
    "You are competing in a spelling bee alongside nine other contestants. You can each spell words perfectly from a certain portion of the dictionary but will misspell any word not in that portion of the book. Specifically, you have 99 percent of the dictionary down cold, and your opponents have 98 percent, 97 percent, 96 percent, and so on down to 90 percent memorized. The bee’s rules are simple: The contestants take turns spelling in some fixed order, which then restarts with the first surviving speller at the end of a round. Miss a word and you’re out, and the last speller standing wins. The bee words are chosen randomly from the dictionary.\n",
    "\n",
    "First, say the contestants go in decreasing order of their knowledge, so that you go first. What are your chances of winning the spelling bee? Second, say the contestants go in increasing order of knowledge, so that you go last. What are your chances of winning now?"
   ]
  },
  {
   "cell_type": "markdown",
   "metadata": {},
   "source": [
    "## Rewritten solution:"
   ]
  },
  {
   "cell_type": "markdown",
   "metadata": {},
   "source": [
    "Based on [notebook by @jnees](https://github.com/jnees/riddler-spelling-bee/blob/master/TheRiddler_SpellingBee.ipynb)."
   ]
  },
  {
   "cell_type": "code",
   "execution_count": 71,
   "metadata": {},
   "outputs": [],
   "source": [
    "def spelling_bee_winners(players, best_player_starts=True, num_bees=10**3, to_percent=False):\n",
    "    ''' Simulate spelling bees and return distribution of victories.'''\n",
    "\n",
    "    results = {name: 0 for name in players}\n",
    "    ties = 0\n",
    "\n",
    "    # Simulate spelling bee\n",
    "    for i in range(num_bees):\n",
    "        \n",
    "        contestants = players.copy()\n",
    "        \n",
    "        if best_player_starts:\n",
    "            contestants = contestants[::-1]\n",
    "\n",
    "        # This is a round, restarts when player gets eliminated\n",
    "        while len(contestants) > 1:\n",
    "            \n",
    "            for contestant in contestants:\n",
    "                \n",
    "                # Sample a word from the dictionary\n",
    "                word = np.random.randint(0, 101, size=1)\n",
    "\n",
    "                # If player doesn't know word, remove from competition, reorder contestants and start new round\n",
    "                if word > contestant:\n",
    "                    contestants.remove(contestant)\n",
    "            \n",
    "        # If all contestants fail, the round ends in a tie\n",
    "        if len(contestants) == 0:\n",
    "            ties += 1\n",
    "        # Record victory for winning player\n",
    "        else:\n",
    "            results[contestants[0]] += 1\n",
    "        \n",
    "    # Convert score to percent\n",
    "    if to_percent:\n",
    "        results = {player: (score / num_bees) for player, score in results.items()}\n",
    "    \n",
    "    return results, ties"
   ]
  },
  {
   "cell_type": "code",
   "execution_count": 72,
   "metadata": {},
   "outputs": [],
   "source": [
    "# Simulating spelling bees\n",
    "players = [i for i in range(90, 100)]\n",
    "num_bees = 500000\n",
    "\n",
    "best_first, _ = spelling_bee_winners(players, best_player_starts=True, num_bees=num_bees, to_percent=True)\n",
    "best_last, _ = spelling_bee_winners(players, best_player_starts=False,  num_bees=num_bees, to_percent=True)"
   ]
  },
  {
   "cell_type": "code",
   "execution_count": 76,
   "metadata": {},
   "outputs": [
    {
     "name": "stdout",
     "output_type": "stream",
     "text": [
      "     Best first     Best last\n",
      "90%: 0.004952       0.00325\n",
      "91%: 0.007474       0.005556\n",
      "92%: 0.01051        0.008654\n",
      "93%: 0.01537        0.013644\n",
      "94%: 0.023434       0.02223\n",
      "95%: 0.037078       0.036822\n",
      "96%: 0.06218        0.060994\n",
      "97%: 0.109468       0.110786\n",
      "98%: 0.21472        0.217518\n",
      "99%: 0.514814       0.520546\n"
     ]
    }
   ],
   "source": [
    "# Print results\n",
    "print('Best first'.rjust(15) + 'Best last'.rjust(14))\n",
    "for (player, scores_first), (_, scores_last) in zip(best_first.items(), best_last.items()):\n",
    "    print(f'{player}%:'.ljust(5) + f'{scores_first}'.ljust(15) + f'{scores_last}')"
   ]
  },
  {
   "cell_type": "markdown",
   "metadata": {},
   "source": [
    "## Original solution:"
   ]
  },
  {
   "cell_type": "code",
   "execution_count": 66,
   "metadata": {},
   "outputs": [],
   "source": [
    "def spelling_bee_winners(players, best_player_starts=True, num_bees=10**3, to_percent=False):\n",
    "    ''' Simulate spelling bees and return distribution of victories.'''\n",
    "    \n",
    "    results = {name: 0 for name in players}\n",
    "\n",
    "    # Simulate spelling bee\n",
    "    for i in range(num_bees):\n",
    "\n",
    "        names = players.copy()\n",
    "        probs = [.9 + 0.01*i for i in range(10)]\n",
    "        \n",
    "        if best_player_starts:\n",
    "            probs = probs[::-1]\n",
    "        else:\n",
    "            names = names[::-1]\n",
    "\n",
    "        spelling_bee = OrderedDict([(name, prob) for name, prob in zip(names, probs)])\n",
    "\n",
    "        # This is a round, restarts when player gets eliminated\n",
    "        while len(spelling_bee) > 1:\n",
    "\n",
    "            for player, prob in spelling_bee.items():\n",
    "\n",
    "                # Sample a word from the dictionary\n",
    "                word = np.random.uniform(size=1)\n",
    "\n",
    "                # If player doesn't know word, remove from competition, reorder contestants and start new round\n",
    "                if word > prob:\n",
    "                    remove = names.index(player)\n",
    "\n",
    "                    del names[remove]\n",
    "                    del probs[remove]\n",
    "                    \n",
    "                    # Check if eliminated player is the last player\n",
    "                    if len(names) - remove == 1:\n",
    "                        spelling_bee = OrderedDict([(name, prob) for name, prob in zip(names, probs)])\n",
    "                        break\n",
    "                    else:\n",
    "                        new_players = names[remove:] + names[:remove]\n",
    "                        new_probs = probs[remove:] + probs[:remove]\n",
    "                        spelling_bee = OrderedDict([(name, prob) for name, prob in zip(new_players, new_probs)])\n",
    "                        break\n",
    "        \n",
    "        # Record victory for winning player\n",
    "        for player in spelling_bee.keys():\n",
    "            results[player] += 1\n",
    "        \n",
    "    # Convert score to percent\n",
    "    if to_percent:\n",
    "        for player in results.keys():\n",
    "            results[player] = results[player] * (1 / num_bees)\n",
    "    \n",
    "    return results\n",
    "\n",
    "\n",
    "def simulations(players, num_bees=10**3, simulations=100, best_player_starts=True, to_percent=False):\n",
    "    ''' Simulate spelling bees to get average and std. deviations. '''\n",
    "    results = np.zeros(simulations)\n",
    "    \n",
    "    for i in range(simulations):\n",
    "        best_first = spelling_bee_winners(players, best_player_starts=best_player_starts, num_bees=num_bees, to_percent=to_percent)\n",
    "        results[i] = best_first['A']\n",
    "\n",
    "    return results\n",
    "\n",
    "\n",
    "def plot_results(results, bins=20, label=None):\n",
    "    ''' Helper function to plot results of simulations.'''\n",
    "    average = round(np.mean(results), 4)\n",
    "    plt.hist(results, bins=bins, alpha=0.7, label=f'{label} (avg.: {average})')\n",
    "    plt.axvline(average, linestyle=\"--\", color='k')"
   ]
  },
  {
   "cell_type": "code",
   "execution_count": 67,
   "metadata": {},
   "outputs": [
    {
     "data": {
      "image/png": "[encoded data removed]",
      "text/plain": [
       "<Figure size 576x432 with 1 Axes>"
      ]
     },
     "metadata": {
      "needs_background": "light"
     },
     "output_type": "display_data"
    }
   ],
   "source": [
    "# Simulating spelling bees\n",
    "players = [\"A\", \"B\", \"C\", \"D\", \"E\", \"F\", \"G\", \"H\", \"I\", \"J\"]\n",
    "\n",
    "best_first = simulations(players, best_player_starts=True, to_percent=True)\n",
    "best_last = simulations(players, best_player_starts=False, to_percent=True)\n",
    "\n",
    "# Plotting comparisons\n",
    "plt.figure(figsize=(8, 6))\n",
    "plot_results(best_first, label='First player')\n",
    "plot_results(best_last, label='Last player')\n",
    "plt.title('Starting first vs. starting last', size=20)\n",
    "plt.legend()\n",
    "plt.show()"
   ]
  }
 ],
 "metadata": {
  "kernelspec": {
   "display_name": "Python 3",
   "language": "python",
   "name": "python3"
  },
  "language_info": {
   "codemirror_mode": {
    "name": "ipython",
    "version": 3
   },
   "file_extension": ".py",
   "mimetype": "text/x-python",
   "name": "python",
   "nbconvert_exporter": "python",
   "pygments_lexer": "ipython3",
   "version": "3.7.3"
  }
 },
 "nbformat": 4,
 "nbformat_minor": 2
}
