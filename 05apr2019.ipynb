{
 "cells": [
  {
   "cell_type": "code",
   "execution_count": 1,
   "metadata": {},
   "outputs": [],
   "source": [
    "import numpy as np\n",
    "import pandas as pd\n",
    "import matplotlib.pyplot as plt\n",
    "import seaborn as sns\n",
    "from scipy import stats"
   ]
  },
  {
   "cell_type": "markdown",
   "metadata": {},
   "source": [
    "# Riddler Classic"
   ]
  },
  {
   "cell_type": "markdown",
   "metadata": {},
   "source": [
    "Lucky you! You’ve won two gift cards, each loaded with 50 free drinks from your favorite coffee shop, Riddler Caffei-Nation. The cards look identical, and because you’re not one for record-keeping, you randomly pick one of the cards to pay with each time you get a drink. One day, the clerk tells you that he can’t accept the card you presented to him because it doesn’t have any drink credits left on it.\n",
    "\n",
    "What is the probability that the other card still has free drinks on it? How many free drinks can you expect are still available?"
   ]
  },
  {
   "cell_type": "code",
   "execution_count": 2,
   "metadata": {},
   "outputs": [],
   "source": [
    "# Simulating coffee card usage -----------------------------------------------------\n",
    "\n",
    "# List to keep track of credit on the other card\n",
    "other_card = []\n",
    "runs = 0\n",
    "\n",
    "while runs < 10**5:\n",
    "    \n",
    "    # Initial setup, two cards worth 50 free coffees each\n",
    "    cards = {0: 50, 1: 50}\n",
    "    done = False\n",
    "    \n",
    "    while not done:\n",
    "        # Pick a card at random\n",
    "        pick_card = stats.bernoulli.rvs(p=.5)\n",
    "        \n",
    "        if cards[pick_card] == 0:\n",
    "            # If there is no credit left, check credit of other card and restart\n",
    "            other_card.append(cards[1 - pick_card])\n",
    "            runs += 1\n",
    "            done = True\n",
    "        else:\n",
    "            # If there is credit left, subtract one coffee\n",
    "            cards[pick_card] -= 1"
   ]
  },
  {
   "cell_type": "code",
   "execution_count": 9,
   "metadata": {},
   "outputs": [
    {
     "data": {
      "image/png": "[encoded data removed]",
      "text/plain": [
       "<Figure size 432x288 with 1 Axes>"
      ]
     },
     "metadata": {
      "needs_background": "light"
     },
     "output_type": "display_data"
    }
   ],
   "source": [
    "other = np.array(other_card)\n",
    "sns.distplot(other)\n",
    "plt.show()"
   ]
  },
  {
   "cell_type": "code",
   "execution_count": 10,
   "metadata": {},
   "outputs": [
    {
     "name": "stdout",
     "output_type": "stream",
     "text": [
      "Probability that other card has free coffee left:\n",
      "0.91944\n"
     ]
    }
   ],
   "source": [
    "print('Probability that other card has free coffee left:')\n",
    "print(1 - np.where(other == 0, True, False).mean())"
   ]
  },
  {
   "cell_type": "code",
   "execution_count": 11,
   "metadata": {},
   "outputs": [
    {
     "name": "stdout",
     "output_type": "stream",
     "text": [
      "Expected number of free coffees left on other card:\n",
      "6.99575\n"
     ]
    }
   ],
   "source": [
    "print('Expected number of free coffees left on other card:')\n",
    "print(np.mean(other))"
   ]
  }
 ],
 "metadata": {
  "kernelspec": {
   "display_name": "Python 3",
   "language": "python",
   "name": "python3"
  },
  "language_info": {
   "codemirror_mode": {
    "name": "ipython",
    "version": 3
   },
   "file_extension": ".py",
   "mimetype": "text/x-python",
   "name": "python",
   "nbconvert_exporter": "python",
   "pygments_lexer": "ipython3",
   "version": "3.7.3"
  }
 },
 "nbformat": 4,
 "nbformat_minor": 2
}
